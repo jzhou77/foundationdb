{
 "cells": [
  {
   "cell_type": "code",
   "execution_count": 42,
   "metadata": {},
   "outputs": [],
   "source": [
    "import sys\n",
    "import xml.dom.minidom\n",
    "\n",
    "# input file\n",
    "trace_file = \"trace.000.000.000.000.0.1549822912.WhkJCk.1.xml\"\n",
    "\n",
    "dom = xml.dom.minidom.parse(trace_file)  # or xml.dom.minidom.parseString(xml_string)\n",
    "\n",
    "import pandas as pd\n",
    "\n",
    "def filter_dict(input_dict, kept_keys, sep='\\n'):\n",
    "    # only keep keys in the \"kept_keys\", combine all others to \"others\"\n",
    "    # with a string concatenated with \"sep\"\n",
    "    other = ''\n",
    "    d = {}\n",
    "    for key, value in input_dict.iteritems():\n",
    "        if key in kept_keys:\n",
    "            d[key] = value\n",
    "        else:\n",
    "            if 'others' in d:\n",
    "                d['others'] += sep + key + \": \" + value\n",
    "            else:\n",
    "                d['others'] = sep + key + \": \" + value\n",
    "    return d\n",
    "\n",
    "# convert dom into a Pandas dataframe\n",
    "def dom_to_dataframe(dom, columns):\n",
    "    events = dom.getElementsByTagName(\"Event\")\n",
    "    data = [filter_dict(dict(e.attributes.items()), columns) for e in events] \n",
    "    return pd.DataFrame(data)\n",
    "\n",
    "columns = ['As', 'ID', 'Locality', 'Machine', 'Severity', 'Transition', 'Time', 'Type']\n",
    "df = dom_to_dataframe(dom, columns)\n",
    "\n",
    "\n",
    "ss = df.loc[(df['Type'] == 'Role') & (df['As'] == 'StorageServer')].astype({'Severity': int, 'Time': float})\n",
    "endTime =  df[-1:]['Time'].array[0]\n",
    "# print endTime\n",
    "\n",
    "ssMap = {}  # ID to a list of timestamps\n",
    "nameMap = {}  # markers for this ID\n",
    "for id in ss.ID.unique():\n",
    "    # print id\n",
    "    rows = ss.loc[ss['ID'] == id]\n",
    "    for index, row in rows.iterrows():\n",
    "        if id in ssMap:\n",
    "            ssMap[id].append(row['Time'])\n",
    "        else:\n",
    "            ssMap[id] = [row['Time']]\n",
    "            nameMap[id] = '{}<br>{}'.format(id, row['Machine'])\n",
    "\n",
    "yMap = {}  # Y axis values for each ID\n",
    "y = 1\n",
    "for key, value in ssMap.iteritems():\n",
    "    if len(value) % 2 is 1:\n",
    "        value.append(endTime)\n",
    "    yMap[key] = [y] * len(value)\n",
    "    y += 1"
   ]
  },
  {
   "cell_type": "code",
   "execution_count": 43,
   "metadata": {},
   "outputs": [
    {
     "data": {
      "text/html": [
       "<iframe id=\"igraph\" scrolling=\"no\" style=\"border:none;\" seamless=\"seamless\" src=\"https://plot.ly/~jnyzh/42.embed\" height=\"600px\" width=\"1000px\"></iframe>"
      ],
      "text/plain": [
       "<plotly.tools.PlotlyDisplay object>"
      ]
     },
     "execution_count": 43,
     "metadata": {},
     "output_type": "execute_result"
    }
   ],
   "source": [
    "import plotly.plotly as py\n",
    "import plotly.graph_objs as go\n",
    "\n",
    "gdata = []\n",
    "annotations = []\n",
    "for key, value in ssMap.iteritems():\n",
    "    trace = go.Scatter(x=value, y=yMap[key], mode='lines+text+markers', text=nameMap[key], hoverinfo='x+text')\n",
    "    gdata.append(trace)\n",
    "\n",
    "    # labeling the left_side of the plot\n",
    "    annotations.append(dict(xref='paper', yref='paper', x=-1, y=yMap[key][0],\n",
    "                                  xanchor='right', yanchor='middle',\n",
    "                                  text=key,\n",
    "                                  showarrow=False))\n",
    "\n",
    "layout = go.Layout(showlegend=False, width=1000, height=600)\n",
    "fig = go.Figure(data=gdata, layout=layout)\n",
    "\n",
    "py.iplot(fig)"
   ]
  },
  {
   "cell_type": "code",
   "execution_count": null,
   "metadata": {},
   "outputs": [],
   "source": []
  }
 ],
 "metadata": {
  "kernelspec": {
   "display_name": "Python 2",
   "language": "python",
   "name": "python2"
  },
  "language_info": {
   "codemirror_mode": {
    "name": "ipython",
    "version": 2
   },
   "file_extension": ".py",
   "mimetype": "text/x-python",
   "name": "python",
   "nbconvert_exporter": "python",
   "pygments_lexer": "ipython2",
   "version": "2.7.15"
  }
 },
 "nbformat": 4,
 "nbformat_minor": 2
}
