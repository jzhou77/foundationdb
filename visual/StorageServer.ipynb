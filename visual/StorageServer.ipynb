{
 "cells": [
  {
   "cell_type": "code",
   "execution_count": null,
   "metadata": {},
   "outputs": [],
   "source": [
    "import sys\n",
    "from fdb import load_trace_file\n",
    "\n",
    "# input file\n",
    "trace_file = \"trace.000.000.000.000.0.1549822912.WhkJCk.1.xml\"\n",
    "columns = ['As', 'ID', 'Locality', 'Machine', 'Severity', 'Transition', 'Time', 'Type']\n",
    "\n",
    "df = load_trace_file(trace_file, columns)\n",
    "df.head(5)"
   ]
  },
  {
   "cell_type": "code",
   "execution_count": null,
   "metadata": {},
   "outputs": [],
   "source": [
    "ss = df.loc[(df['Type'] == 'Role') & (df['As'] == 'StorageServer')].astype({'Severity': int, 'Time': float})\n",
    "endTime =  df[-1:]['Time'].array[0]\n",
    "# print endTime\n",
    "\n",
    "ssMap = {}  # ID to a list of timestamps\n",
    "nameMap = {}  # markers for this ID\n",
    "for id in ss['ID'].unique():\n",
    "    # print id\n",
    "    rows = ss.loc[ss['ID'] == id]\n",
    "    for index, row in rows.iterrows():\n",
    "        if id in ssMap:\n",
    "            ssMap[id].append(row['Time'])\n",
    "        else:\n",
    "            ssMap[id] = [row['Time']]\n",
    "            nameMap[id] = '{}<br>{}'.format(id, row['Machine'])\n",
    "\n",
    "yMap = {}  # Y axis values for each ID\n",
    "y = 1\n",
    "for key, value in ssMap.items():\n",
    "    if len(value) % 2 is 1:\n",
    "        value.append(endTime)\n",
    "    yMap[key] = [y] * len(value)\n",
    "    y += 1"
   ]
  },
  {
   "cell_type": "code",
   "execution_count": null,
   "metadata": {},
   "outputs": [],
   "source": [
    "# free version of plotly has a limit of 25 figures. So probably should look at\n",
    "# other alternatives.\n",
    "import plotly.plotly as py\n",
    "import plotly.graph_objs as go\n",
    "\n",
    "gdata = []\n",
    "annotations = []\n",
    "for key, value in ssMap.items():\n",
    "    trace = go.Scatter(x=value, y=yMap[key], mode='lines+text+markers', text=nameMap[key], hoverinfo='x+text')\n",
    "    gdata.append(trace)\n",
    "\n",
    "    # labeling the left_side of the plot\n",
    "    annotations.append(dict(xref='paper', yref='paper', x=-1, y=yMap[key][0],\n",
    "                                  xanchor='right', yanchor='middle',\n",
    "                                  text=key,\n",
    "                                  showarrow=False))\n",
    "\n",
    "layout = go.Layout(showlegend=False, width=1000, height=600)\n",
    "fig = go.Figure(data=gdata, layout=layout)\n",
    "\n",
    "py.iplot(fig)"
   ]
  },
  {
   "cell_type": "code",
   "execution_count": null,
   "metadata": {},
   "outputs": [],
   "source": []
  }
 ],
 "metadata": {
  "kernelspec": {
   "display_name": "Python 3",
   "language": "python",
   "name": "python3"
  },
  "language_info": {
   "codemirror_mode": {
    "name": "ipython",
    "version": 3
   },
   "file_extension": ".py",
   "mimetype": "text/x-python",
   "name": "python",
   "nbconvert_exporter": "python",
   "pygments_lexer": "ipython3",
   "version": "3.7.2"
  }
 },
 "nbformat": 4,
 "nbformat_minor": 2
}
