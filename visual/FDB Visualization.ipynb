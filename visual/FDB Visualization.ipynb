{
 "cells": [
  {
   "cell_type": "code",
   "execution_count": null,
   "metadata": {},
   "outputs": [],
   "source": [
    "import sys\n",
    "import xml.dom.minidom\n",
    "\n",
    "# input file\n",
    "trace_file = \"trace.000.000.000.000.0.1549426071.gBt3uZ.1.xml\"\n",
    "\n",
    "dom = xml.dom.minidom.parse(trace_file)  # or xml.dom.minidom.parseString(xml_string)\n"
   ]
  },
  {
   "cell_type": "code",
   "execution_count": null,
   "metadata": {},
   "outputs": [],
   "source": [
    "def print_event(event):\n",
    "    myDict = dict(event.attributes.items())\n",
    "    print(myDict)\n",
    "\n",
    "def handle_trace(dom):\n",
    "    i = 0\n",
    "    events = dom.getElementsByTagName(\"Event\")\n",
    "    for e in events:\n",
    "        print_event(e)\n",
    "        i += 1\n",
    "        if i == 5:\n",
    "            break\n",
    "\n",
    "handle_trace(dom)\n",
    "\n",
    "def get_roles(dom):\n",
    "    events = dom.getElementsByTagName(\"Event\")\n",
    "    for e in events:\n",
    "        if e.getAttribute(\"Type\") == \"Role\":\n",
    "            print_event(e)\n",
    "            \n",
    "get_roles(dom)"
   ]
  },
  {
   "cell_type": "code",
   "execution_count": null,
   "metadata": {},
   "outputs": [],
   "source": [
    "import pandas as pd\n",
    "\n",
    "# convert dom into a Pandas dataframe\n",
    "def dom_to_dataframe(dom, columns):\n",
    "    events = dom.getElementsByTagName(\"Event\")\n",
    "    data = [dict(e.attributes.items()) for e in events] \n",
    "    return pd.DataFrame(data, columns=columns)\n",
    "\n",
    "columns = ['As', 'ID', 'Locality', 'Machine', 'Severity', 'Transition', 'Time', 'Type']\n",
    "df = dom_to_dataframe(dom, columns)\n",
    "print(df.loc[df['Type'] == 'Role'].head(5))"
   ]
  },
  {
   "cell_type": "code",
   "execution_count": null,
   "metadata": {},
   "outputs": [],
   "source": [
    "ss = df.loc[(df['Type'] == 'Role') & (df['As'] == 'StorageServer')]\n",
    "print(ss)"
   ]
  },
  {
   "cell_type": "code",
   "execution_count": null,
   "metadata": {},
   "outputs": [],
   "source": [
    "from collections import defaultdict\n",
    "\n",
    "ss = df.loc[(df['Type'] == 'Role') & (df['As'] == 'StorageServer')].astype({'Severity': int, 'Time': float})\n",
    "endTime =  df[-1:]['Time'].array[0]\n",
    "print(endTime)\n",
    "ssMap = {}  # ID to a list of timestamps\n",
    "nameMap = {}  # markers for this ID\n",
    "for id in ss.ID.unique():\n",
    "    # print id\n",
    "    rows = ss.loc[ss['ID'] == id]\n",
    "    for index, row in rows.iterrows():\n",
    "        if id in ssMap:\n",
    "            ssMap[id].append(row['Time'])\n",
    "        else:\n",
    "            ssMap[id] = [row['Time']]\n",
    "            nameMap[id] = '{}<br>{}'.format(id, row['Machine'])\n",
    "\n",
    "yMap = {}  # Y axis values for each ID\n",
    "y = 1\n",
    "for key, value in ssMap.items():\n",
    "    if len(value) % 2 is 1:\n",
    "        value.append(endTime)\n",
    "    yMap[key] = [y] * len(value)\n",
    "    y += 1\n",
    "\n",
    "print(ssMap)\n",
    "print(yMap)\n",
    "print(nameMap)"
   ]
  },
  {
   "cell_type": "code",
   "execution_count": null,
   "metadata": {},
   "outputs": [],
   "source": [
    "import plotly.plotly as py\n",
    "import plotly.graph_objs as go\n",
    "\n",
    "gdata = []\n",
    "for key, value in ssMap.items():\n",
    "    trace = go.Scatter(x=value, y=yMap[key], mode='lines+markers', name=nameMap[key])\n",
    "    gdata.append(trace)\n",
    "\n",
    "py.iplot(gdata)"
   ]
  },
  {
   "cell_type": "code",
   "execution_count": null,
   "metadata": {},
   "outputs": [],
   "source": []
  }
 ],
 "metadata": {
  "kernelspec": {
   "display_name": "Python 3",
   "language": "python",
   "name": "python3"
  },
  "language_info": {
   "codemirror_mode": {
    "name": "ipython",
    "version": 3
   },
   "file_extension": ".py",
   "mimetype": "text/x-python",
   "name": "python",
   "nbconvert_exporter": "python",
   "pygments_lexer": "ipython3",
   "version": "3.7.2"
  }
 },
 "nbformat": 4,
 "nbformat_minor": 2
}
